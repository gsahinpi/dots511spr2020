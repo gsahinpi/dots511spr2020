{
 "cells": [
  {
   "cell_type": "code",
   "execution_count": 24,
   "metadata": {},
   "outputs": [],
   "source": [
    "import arviz as az\n",
    "import matplotlib.pyplot as plt\n",
    "import numpy as np\n",
    "import pymc3 as pm\n",
    "import scipy.stats as stats\n",
    "import pandas as pd\n"
   ]
  },
  {
   "cell_type": "code",
   "execution_count": 30,
   "metadata": {},
   "outputs": [],
   "source": [
    "df = pd.read_csv(\"Data/istanbul_deaths_2008_2020.csv\")"
   ]
  },
  {
   "cell_type": "code",
   "execution_count": 31,
   "metadata": {},
   "outputs": [],
   "source": [
    "df[\"Date\"]=pd.to_datetime(d['Date'])"
   ]
  },
  {
   "cell_type": "code",
   "execution_count": 32,
   "metadata": {},
   "outputs": [
    {
     "data": {
      "text/plain": [
       "Date      datetime64[ns]\n",
       "Number             int64\n",
       "dtype: object"
      ]
     },
     "execution_count": 32,
     "metadata": {},
     "output_type": "execute_result"
    }
   ],
   "source": [
    "df.dtypes"
   ]
  },
  {
   "cell_type": "code",
   "execution_count": 33,
   "metadata": {},
   "outputs": [
    {
     "data": {
      "text/html": [
       "<div>\n",
       "<style scoped>\n",
       "    .dataframe tbody tr th:only-of-type {\n",
       "        vertical-align: middle;\n",
       "    }\n",
       "\n",
       "    .dataframe tbody tr th {\n",
       "        vertical-align: top;\n",
       "    }\n",
       "\n",
       "    .dataframe thead th {\n",
       "        text-align: right;\n",
       "    }\n",
       "</style>\n",
       "<table border=\"1\" class=\"dataframe\">\n",
       "  <thead>\n",
       "    <tr style=\"text-align: right;\">\n",
       "      <th></th>\n",
       "      <th>Number</th>\n",
       "    </tr>\n",
       "    <tr>\n",
       "      <th>datetime</th>\n",
       "      <th></th>\n",
       "    </tr>\n",
       "  </thead>\n",
       "  <tbody>\n",
       "    <tr>\n",
       "      <th>2008-01-01</th>\n",
       "      <td>129</td>\n",
       "    </tr>\n",
       "    <tr>\n",
       "      <th>2008-02-01</th>\n",
       "      <td>152</td>\n",
       "    </tr>\n",
       "    <tr>\n",
       "      <th>2008-03-01</th>\n",
       "      <td>120</td>\n",
       "    </tr>\n",
       "    <tr>\n",
       "      <th>2008-04-01</th>\n",
       "      <td>157</td>\n",
       "    </tr>\n",
       "    <tr>\n",
       "      <th>2008-05-01</th>\n",
       "      <td>128</td>\n",
       "    </tr>\n",
       "  </tbody>\n",
       "</table>\n",
       "</div>"
      ],
      "text/plain": [
       "            Number\n",
       "datetime          \n",
       "2008-01-01     129\n",
       "2008-02-01     152\n",
       "2008-03-01     120\n",
       "2008-04-01     157\n",
       "2008-05-01     128"
      ]
     },
     "execution_count": 33,
     "metadata": {},
     "output_type": "execute_result"
    }
   ],
   "source": [
    "df['datetime'] = pd.to_datetime(df['Date'])\n",
    "df = df.set_index('datetime')\n",
    "df.drop(['Date'], axis=1, inplace=True)\n",
    "df.head()\n"
   ]
  },
  {
   "cell_type": "markdown",
   "metadata": {},
   "source": [
    "replace FirstName = \"Matt\" if ID==103\n",
    "replace LastName =  \"Jones\" if ID==103\n",
    "# append 's' to 'age' if it's greater than 1\n",
    "df.animal = df.animal + \", \" + df.type + \", \" + \\\n",
    "    df.age.astype(str) + \" year\" + np.where(df.age > 1, 's', '')\n",
    "\n",
    "In [3]: df\n",
    "Out[3]:\n",
    "                 animal     type  age\n",
    "-------------------------------------\n",
    "0   dog, hound, 5 years    hound    5\n",
    "1  cat, ragdoll, 1 year  ragdoll    1\n",
    "\n",
    "-------\n",
    "col         = 'consumption_energy'\n",
    "conditions  = [ df2[col] >= 400, (df2[col] < 400) & (df2[col]> 200), df2[col] <= 200 ]\n",
    "choices     = [ \"high\", 'medium', 'low' ]\n",
    "\n",
    "df2[\"energy_class\"] = np.select(conditions, choices, default=np.nan)"
   ]
  },
  {
   "cell_type": "code",
   "execution_count": 38,
   "metadata": {},
   "outputs": [
    {
     "data": {
      "text/html": [
       "<div>\n",
       "<style scoped>\n",
       "    .dataframe tbody tr th:only-of-type {\n",
       "        vertical-align: middle;\n",
       "    }\n",
       "\n",
       "    .dataframe tbody tr th {\n",
       "        vertical-align: top;\n",
       "    }\n",
       "\n",
       "    .dataframe thead th {\n",
       "        text-align: right;\n",
       "    }\n",
       "</style>\n",
       "<table border=\"1\" class=\"dataframe\">\n",
       "  <thead>\n",
       "    <tr style=\"text-align: right;\">\n",
       "      <th></th>\n",
       "      <th>Number</th>\n",
       "    </tr>\n",
       "    <tr>\n",
       "      <th>datetime</th>\n",
       "      <th></th>\n",
       "    </tr>\n",
       "  </thead>\n",
       "  <tbody>\n",
       "    <tr>\n",
       "      <th>2008-01-01</th>\n",
       "      <td>129</td>\n",
       "    </tr>\n",
       "    <tr>\n",
       "      <th>2008-02-01</th>\n",
       "      <td>152</td>\n",
       "    </tr>\n",
       "    <tr>\n",
       "      <th>2008-03-01</th>\n",
       "      <td>120</td>\n",
       "    </tr>\n",
       "    <tr>\n",
       "      <th>2008-04-01</th>\n",
       "      <td>157</td>\n",
       "    </tr>\n",
       "    <tr>\n",
       "      <th>2008-05-01</th>\n",
       "      <td>128</td>\n",
       "    </tr>\n",
       "    <tr>\n",
       "      <th>...</th>\n",
       "      <td>...</td>\n",
       "    </tr>\n",
       "    <tr>\n",
       "      <th>2008-12-27</th>\n",
       "      <td>154</td>\n",
       "    </tr>\n",
       "    <tr>\n",
       "      <th>2008-12-28</th>\n",
       "      <td>127</td>\n",
       "    </tr>\n",
       "    <tr>\n",
       "      <th>2008-12-29</th>\n",
       "      <td>161</td>\n",
       "    </tr>\n",
       "    <tr>\n",
       "      <th>2008-12-30</th>\n",
       "      <td>154</td>\n",
       "    </tr>\n",
       "    <tr>\n",
       "      <th>2008-12-31</th>\n",
       "      <td>168</td>\n",
       "    </tr>\n",
       "  </tbody>\n",
       "</table>\n",
       "<p>366 rows × 1 columns</p>\n",
       "</div>"
      ],
      "text/plain": [
       "            Number\n",
       "datetime          \n",
       "2008-01-01     129\n",
       "2008-02-01     152\n",
       "2008-03-01     120\n",
       "2008-04-01     157\n",
       "2008-05-01     128\n",
       "...            ...\n",
       "2008-12-27     154\n",
       "2008-12-28     127\n",
       "2008-12-29     161\n",
       "2008-12-30     154\n",
       "2008-12-31     168\n",
       "\n",
       "[366 rows x 1 columns]"
      ]
     },
     "execution_count": 38,
     "metadata": {},
     "output_type": "execute_result"
    }
   ],
   "source": [
    "populationlisttobeinserted=[]\n",
    "\n",
    "df[df.index.year == 2008]"
   ]
  },
  {
   "cell_type": "code",
   "execution_count": 57,
   "metadata": {},
   "outputs": [],
   "source": [
    "col         = 'datetime'\n",
    "conditions  = [ df.index.year == 2008,\n",
    "               df.index.year == 2009,df.index.year == 2010,df.index.year == 2011,\n",
    "df.index.year == 2012,df.index.year == 2013,df.index.year == 2014,df.index.year == 2015,df.index.year == 2016,\n",
    "              df.index.year == 2017,df.index.year == 2018,df.index.year == 2019,df.index.year == 2020]\n",
    "choices     = [12697164,#2008\n",
    "               12915158,#2009\n",
    "               13255685,#2010\n",
    "               13624240,#11\n",
    "               14160467,#12\n",
    "               14377018,#13\n",
    "               14657434,#14\n",
    "               14657434,#15\n",
    "               14804116,#16\n",
    "               15029231,#2017\n",
    "               15067724,#2018\n",
    "               15519267,#2019\n",
    "               15713258#20\n",
    "              ]"
   ]
  },
  {
   "cell_type": "code",
   "execution_count": 58,
   "metadata": {},
   "outputs": [],
   "source": [
    "df[\"population\"] = np.select(conditions, choices, default=np.nan)"
   ]
  },
  {
   "cell_type": "code",
   "execution_count": 59,
   "metadata": {},
   "outputs": [],
   "source": [
    "df[\"density\"]=df[\"Number\"]/df[\"population\"]"
   ]
  },
  {
   "cell_type": "code",
   "execution_count": 60,
   "metadata": {},
   "outputs": [
    {
     "data": {
      "text/html": [
       "<div>\n",
       "<style scoped>\n",
       "    .dataframe tbody tr th:only-of-type {\n",
       "        vertical-align: middle;\n",
       "    }\n",
       "\n",
       "    .dataframe tbody tr th {\n",
       "        vertical-align: top;\n",
       "    }\n",
       "\n",
       "    .dataframe thead th {\n",
       "        text-align: right;\n",
       "    }\n",
       "</style>\n",
       "<table border=\"1\" class=\"dataframe\">\n",
       "  <thead>\n",
       "    <tr style=\"text-align: right;\">\n",
       "      <th></th>\n",
       "      <th>Number</th>\n",
       "      <th>population</th>\n",
       "      <th>density</th>\n",
       "    </tr>\n",
       "    <tr>\n",
       "      <th>datetime</th>\n",
       "      <th></th>\n",
       "      <th></th>\n",
       "      <th></th>\n",
       "    </tr>\n",
       "  </thead>\n",
       "  <tbody>\n",
       "    <tr>\n",
       "      <th>2008-01-01</th>\n",
       "      <td>129</td>\n",
       "      <td>12697164.0</td>\n",
       "      <td>0.000010</td>\n",
       "    </tr>\n",
       "    <tr>\n",
       "      <th>2008-02-01</th>\n",
       "      <td>152</td>\n",
       "      <td>12697164.0</td>\n",
       "      <td>0.000012</td>\n",
       "    </tr>\n",
       "    <tr>\n",
       "      <th>2008-03-01</th>\n",
       "      <td>120</td>\n",
       "      <td>12697164.0</td>\n",
       "      <td>0.000009</td>\n",
       "    </tr>\n",
       "    <tr>\n",
       "      <th>2008-04-01</th>\n",
       "      <td>157</td>\n",
       "      <td>12697164.0</td>\n",
       "      <td>0.000012</td>\n",
       "    </tr>\n",
       "    <tr>\n",
       "      <th>2008-05-01</th>\n",
       "      <td>128</td>\n",
       "      <td>12697164.0</td>\n",
       "      <td>0.000010</td>\n",
       "    </tr>\n",
       "  </tbody>\n",
       "</table>\n",
       "</div>"
      ],
      "text/plain": [
       "            Number  population   density\n",
       "datetime                                \n",
       "2008-01-01     129  12697164.0  0.000010\n",
       "2008-02-01     152  12697164.0  0.000012\n",
       "2008-03-01     120  12697164.0  0.000009\n",
       "2008-04-01     157  12697164.0  0.000012\n",
       "2008-05-01     128  12697164.0  0.000010"
      ]
     },
     "execution_count": 60,
     "metadata": {},
     "output_type": "execute_result"
    }
   ],
   "source": [
    "df.head()"
   ]
  },
  {
   "cell_type": "code",
   "execution_count": 62,
   "metadata": {},
   "outputs": [
    {
     "data": {
      "text/plain": [
       "<matplotlib.axes._subplots.AxesSubplot at 0x121f04460>"
      ]
     },
     "execution_count": 62,
     "metadata": {},
     "output_type": "execute_result"
    },
    {
     "data": {
      "image/png": "[encoded data removed]",
      "text/plain": [
       "<Figure size 432x288 with 1 Axes>"
      ]
     },
     "metadata": {
      "needs_background": "light"
     },
     "output_type": "display_data"
    }
   ],
   "source": [
    "df[\"density\"].plot()"
   ]
  },
  {
   "cell_type": "code",
   "execution_count": 77,
   "metadata": {},
   "outputs": [
    {
     "data": {
      "text/plain": [
       "<matplotlib.axes._subplots.AxesSubplot at 0x123d45400>"
      ]
     },
     "execution_count": 77,
     "metadata": {},
     "output_type": "execute_result"
    },
    {
     "data": {
      "image/png": "[encoded data removed]",
      "text/plain": [
       "<Figure size 432x288 with 1 Axes>"
      ]
     },
     "metadata": {
      "needs_background": "light"
     },
     "output_type": "display_data"
    }
   ],
   "source": [
    "df[\"Number\"].plot()"
   ]
  },
  {
   "cell_type": "code",
   "execution_count": 63,
   "metadata": {},
   "outputs": [
    {
     "name": "stdout",
     "output_type": "stream",
     "text": [
      "Looking in indexes: https://test.pypi.org/simple/\n",
      "Collecting MFDFA\n",
      "  Downloading https://test-files.pythonhosted.org/packages/4b/6f/cdc9b9e3756eaf61529a39928c18b886758ad01d4befc8a117bc1d6fff27/MFDFA-0.2-py3-none-any.whl (7.8 kB)\n",
      "Installing collected packages: MFDFA\n",
      "Successfully installed MFDFA-0.2\n"
     ]
    }
   ],
   "source": [
    "!pip install -i https://test.pypi.org/simple/ MFDFA"
   ]
  },
  {
   "cell_type": "code",
   "execution_count": 64,
   "metadata": {},
   "outputs": [],
   "source": [
    "from MFDFA import MFDFA\n",
    "from MFDFA import fgn"
   ]
  },
  {
   "cell_type": "code",
   "execution_count": 65,
   "metadata": {},
   "outputs": [],
   "source": [
    "lag = np.logspace(0.7, 4, 30).astype(int)"
   ]
  },
  {
   "cell_type": "code",
   "execution_count": 66,
   "metadata": {},
   "outputs": [
    {
     "data": {
      "text/plain": [
       "array([    5,     6,     8,    10,    14,    18,    24,    31,    40,\n",
       "          52,    68,    89,   116,   151,   196,   255,   331,   431,\n",
       "         560,   727,   945,  1229,  1597,  2076,  2697,  3506,  4556,\n",
       "        5921,  7694, 10000])"
      ]
     },
     "execution_count": 66,
     "metadata": {},
     "output_type": "execute_result"
    }
   ],
   "source": [
    "lag"
   ]
  },
  {
   "cell_type": "code",
   "execution_count": 69,
   "metadata": {},
   "outputs": [
    {
     "name": "stderr",
     "output_type": "stream",
     "text": [
      "/Users/gokhansahin/opt/anaconda3/envs/stat-rethink2-pymc3/lib/python3.8/site-packages/numpy/core/fromnumeric.py:3334: RuntimeWarning: Mean of empty slice.\n",
      "  return _methods._mean(a, axis=axis, dtype=dtype,\n"
     ]
    }
   ],
   "source": [
    "q = 2\n",
    "\n",
    "# The order of the polynomial fitting\n",
    "order = 1\n",
    "\n",
    "# Obtain the (MF)DFA as\n",
    "lag, dfa = MFDFA(df[\"density\"].to_numpy(), lag = lag, q = q, order = order)"
   ]
  },
  {
   "cell_type": "code",
   "execution_count": 72,
   "metadata": {},
   "outputs": [
    {
     "data": {
      "text/plain": [
       "array([0.99586501])"
      ]
     },
     "execution_count": 72,
     "metadata": {},
     "output_type": "execute_result"
    },
    {
     "data": {
      "image/png": "[encoded data removed]",
      "text/plain": [
       "<Figure size 432x288 with 1 Axes>"
      ]
     },
     "metadata": {
      "needs_background": "light"
     },
     "output_type": "display_data"
    }
   ],
   "source": [
    "plt.loglog(lag, dfa, 'o', label='fOU: MFDFA q=2')\n",
    "\n",
    "# And now we need to fit the line to find the slope. We will\n",
    "# fit the first points, since the results are more accurate\n",
    "# there. Don't forget that if you are seeing in log-log\n",
    "# scales, you need to fit the logs of the results\n",
    "np.polyfit(np.log(lag[:15]), np.log(dfa[:15]),1)[0]\n"
   ]
  },
  {
   "cell_type": "code",
   "execution_count": 76,
   "metadata": {},
   "outputs": [
    {
     "data": {
      "image/png": "[encoded data removed]",
      "text/plain": [
       "<Figure size 432x288 with 1 Axes>"
      ]
     },
     "metadata": {
      "needs_background": "light"
     },
     "output_type": "display_data"
    }
   ],
   "source": [
    "\n",
    "count_data = df[\"Number\"].to_numpy()\n",
    "n_count_data = len(count_data)\n",
    "plt.bar(np.arange(n_count_data), count_data, color=\"#348ABD\")\n",
    "plt.xlabel(\"Time (days)\")\n",
    "plt.ylabel(\"count of deaths per day \")\n",
    "plt.title(\"Did the user's texting habits change over time?\")\n",
    "plt.xlim(0, n_count_data);"
   ]
  },
  {
   "cell_type": "markdown",
   "metadata": {},
   "source": [
    "take 7 day average"
   ]
  },
  {
   "cell_type": "markdown",
   "metadata": {},
   "source": [
    "n = 2\n",
    "\n",
    "# Cast your dates as timestamps.\n",
    "test['Date'] = pd.to_datetime(test.Date)\n",
    "\n",
    "# Create a daily index spanning the range of the original index.\n",
    "idx = pd.date_range(test.Date.min(), test.Date.max(), freq='D')\n",
    "\n",
    "# Pivot by Dates and Users.\n",
    "df = test.pivot(index='Date', values='Value', columns='User').reindex(idx)\n",
    ">>> df.head(3)\n",
    "User        John  Mike\n",
    "2016-04-01     2   1.0\n",
    "2016-04-02     3   1.0\n",
    "2016-04-03   NaN   4.5\n",
    "\n",
    "# Apply a rolling mean on the above dataframe and reset the index.\n",
    "df2 = (pd.rolling_mean(df.shift(), n, min_periods=1)\n",
    "       .reset_index()\n",
    "       .drop_duplicates())\n",
    "\n",
    "# For Pandas 0.18.0+\n",
    "df2 = (df.shift().rolling(window=n, min_periods=1).mean()\n",
    "       .reset_index()\n",
    "       .drop_duplicates())\n",
    "\n",
    "# Melt the result back into the original form.\n",
    "df3 = (pd.melt(df2, id_vars='Date', value_name='Value')\n",
    "       .sort_values(['Date', 'User'])\n",
    "       .reset_index(drop=True))\n",
    ">>> df3.head()\n",
    "        Date  User  Value\n",
    "0 2016-04-01  John    NaN\n",
    "1 2016-04-01  Mike    NaN\n",
    "2 2016-04-02  John    2.0\n",
    "3 2016-04-02  Mike    1.0\n",
    "4 2016-04-03  John    2.5\n",
    "\n",
    "# Merge the results back into the original dataframe.\n",
    ">>> test.merge(df3, on=['Date', 'User'], how='left', \n",
    "               suffixes=['', '_Average_past_{0}_days'.format(n)])\n",
    "\n",
    "        Date  User  Value  Value_Average_past_2_days\n",
    "0 2016-04-01  Mike    1.0                        NaN\n",
    "1 2016-04-01  John    2.0                        NaN\n",
    "2 2016-04-02  Mike    1.0                       1.00\n",
    "3 2016-04-02  John    3.0                       2.00\n",
    "4 2016-04-03  Mike    4.5                       1.00\n",
    "5 2016-04-04  Mike    1.0                       2.75\n",
    "6 2016-04-05  Mike    2.0                       2.75\n",
    "7 2016-04-06  Mike    3.0                       1.50\n",
    "8 2016-04-06  John    6.0                        NaN\n",
    "-------------------------------------------------------------\n",
    "# Summary #\n",
    "n = 2\n",
    "test['Date'] = pd.to_datetime(test.Date)\n",
    "idx = pd.date_range(test.Date.min(), test.Date.max(), freq='D')\n",
    "df = test.pivot(index='Date', values='Value', columns='User').reindex(idx)\n",
    "df2 = (pd.rolling_mean(df.shift(), n, min_periods=1)\n",
    "       .reset_index()\n",
    "       .drop_duplicates())\n",
    "df3 = (pd.melt(df2, id_vars='Date', value_name='Value')\n",
    "       .sort_values(['Date', 'User'])\n",
    "       .reset_index(drop=True))\n",
    "test.merge(df3, on=['Date', 'User'], how='left', \n",
    "           suffixes=['', '_Average_past_{0}_days'.format(n)])"
   ]
  }
 ],
 "metadata": {
  "kernelspec": {
   "display_name": "Python 3",
   "language": "python",
   "name": "python3"
  },
  "language_info": {
   "codemirror_mode": {
    "name": "ipython",
    "version": 3
   },
   "file_extension": ".py",
   "mimetype": "text/x-python",
   "name": "python",
   "nbconvert_exporter": "python",
   "pygments_lexer": "ipython3",
   "version": "3.8.2"
  }
 },
 "nbformat": 4,
 "nbformat_minor": 4
}
